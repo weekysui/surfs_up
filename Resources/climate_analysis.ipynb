{
 "cells": [
  {
   "cell_type": "code",
   "execution_count": 1,
   "metadata": {
    "collapsed": true
   },
   "outputs": [],
   "source": [
    "from sqlalchemy import create_engine, inspect,func\n",
    "from sqlalchemy.ext.automap import automap_base\n",
    "Base = automap_base()\n",
    "from sqlalchemy import Column, Integer, String, Float, DateTime\n",
    "import pandas as pd\n",
    "import matplotlib.pyplot as plt\n",
    "import datetime as dt\n",
    "import numpy as np"
   ]
  },
  {
   "cell_type": "code",
   "execution_count": 2,
   "metadata": {
    "collapsed": true
   },
   "outputs": [],
   "source": [
    "engine = create_engine(\"sqlite:///hawaii.sqlite\")\n",
    "# inspector = inspect(engine)\n",
    "Base.prepare(engine,reflect = True)"
   ]
  },
  {
   "cell_type": "code",
   "execution_count": 3,
   "metadata": {
    "collapsed": true
   },
   "outputs": [],
   "source": [
    "from sqlalchemy.orm import Session\n",
    "session = Session(bind = engine)\n",
    "# inspector.get_table_names()\n",
    "Base.classes.keys()\n",
    "Measurement = Base.classes.measurement\n",
    "Station = Base.classes.station\n"
   ]
  },
  {
   "cell_type": "code",
   "execution_count": 4,
   "metadata": {},
   "outputs": [
    {
     "data": {
      "text/plain": [
       "{'_sa_instance_state': <sqlalchemy.orm.state.InstanceState at 0x10a4b2cf8>,\n",
       " 'date': '2010-01-01',\n",
       " 'id': 1,\n",
       " 'prcp': 0.08,\n",
       " 'station': 'USC00519397',\n",
       " 'tobs': 65}"
      ]
     },
     "execution_count": 4,
     "metadata": {},
     "output_type": "execute_result"
    }
   ],
   "source": [
    "first_data = session.query(Measurement).first()\n",
    "first_data.__dict__"
   ]
  },
  {
   "cell_type": "code",
   "execution_count": 5,
   "metadata": {},
   "outputs": [
    {
     "data": {
      "text/plain": [
       "{'_sa_instance_state': <sqlalchemy.orm.state.InstanceState at 0x10a4f8a90>,\n",
       " 'elevation': 3.0,\n",
       " 'id': 1,\n",
       " 'latitude': 21.2716,\n",
       " 'longitude': -157.8168,\n",
       " 'name': 'WAIKIKI 717.2, HI US',\n",
       " 'station': 'USC00519397'}"
      ]
     },
     "execution_count": 5,
     "metadata": {},
     "output_type": "execute_result"
    }
   ],
   "source": [
    "precip_data = session.query(Station).first()\n",
    "precip_data.__dict__\n"
   ]
  },
  {
   "cell_type": "code",
   "execution_count": 12,
   "metadata": {},
   "outputs": [
    {
     "data": {
      "text/plain": [
       "['2017', '08', '23']"
      ]
     },
     "execution_count": 12,
     "metadata": {},
     "output_type": "execute_result"
    }
   ],
   "source": [
    "query_date = session.query(Measurement.date).order_by((Measurement.date).desc()).first()\n",
    "query_date = query_date[0].split(\"-\")\n",
    "query_date\n"
   ]
  },
  {
   "cell_type": "code",
   "execution_count": 14,
   "metadata": {},
   "outputs": [
    {
     "data": {
      "text/plain": [
       "datetime.date(2016, 8, 22)"
      ]
     },
     "execution_count": 14,
     "metadata": {},
     "output_type": "execute_result"
    }
   ],
   "source": [
    "days_ago = dt.date(int(query_date[0]),int(query_date[1]),int(query_date[2])) - dt.timedelta(days = 366)\n",
    "days_ago"
   ]
  },
  {
   "cell_type": "code",
   "execution_count": 15,
   "metadata": {},
   "outputs": [
    {
     "data": {
      "text/html": [
       "<div>\n",
       "<style>\n",
       "    .dataframe thead tr:only-child th {\n",
       "        text-align: right;\n",
       "    }\n",
       "\n",
       "    .dataframe thead th {\n",
       "        text-align: left;\n",
       "    }\n",
       "\n",
       "    .dataframe tbody tr th {\n",
       "        vertical-align: top;\n",
       "    }\n",
       "</style>\n",
       "<table border=\"1\" class=\"dataframe\">\n",
       "  <thead>\n",
       "    <tr style=\"text-align: right;\">\n",
       "      <th></th>\n",
       "      <th>Date</th>\n",
       "      <th>Precipitation</th>\n",
       "    </tr>\n",
       "  </thead>\n",
       "  <tbody>\n",
       "    <tr>\n",
       "      <th>0</th>\n",
       "      <td>2016-08-23</td>\n",
       "      <td>0.00</td>\n",
       "    </tr>\n",
       "    <tr>\n",
       "      <th>1</th>\n",
       "      <td>2016-08-24</td>\n",
       "      <td>0.08</td>\n",
       "    </tr>\n",
       "    <tr>\n",
       "      <th>2</th>\n",
       "      <td>2016-08-25</td>\n",
       "      <td>0.08</td>\n",
       "    </tr>\n",
       "    <tr>\n",
       "      <th>3</th>\n",
       "      <td>2016-08-26</td>\n",
       "      <td>0.00</td>\n",
       "    </tr>\n",
       "    <tr>\n",
       "      <th>4</th>\n",
       "      <td>2016-08-27</td>\n",
       "      <td>0.00</td>\n",
       "    </tr>\n",
       "  </tbody>\n",
       "</table>\n",
       "</div>"
      ],
      "text/plain": [
       "         Date  Precipitation\n",
       "0  2016-08-23           0.00\n",
       "1  2016-08-24           0.08\n",
       "2  2016-08-25           0.08\n",
       "3  2016-08-26           0.00\n",
       "4  2016-08-27           0.00"
      ]
     },
     "execution_count": 15,
     "metadata": {},
     "output_type": "execute_result"
    }
   ],
   "source": [
    "#Design a query to retrieve the last 12 months of precipitation data.\n",
    "prcp = session.query(Measurement.date,Measurement.prcp).filter(Measurement.date>days_ago).all()\n",
    "prcp_df = pd.DataFrame(prcp, columns = [\"Date\", \"Precipitation\"])\n",
    "prcp_df.head()"
   ]
  },
  {
   "cell_type": "code",
   "execution_count": 17,
   "metadata": {
    "scrolled": true
   },
   "outputs": [
    {
     "data": {
      "image/png": "[encoded data removed]",
      "text/plain": [
       "<matplotlib.figure.Figure at 0x10a492e80>"
      ]
     },
     "metadata": {},
     "output_type": "display_data"
    }
   ],
   "source": [
    "graph = prcp_df.plot()\n",
    "plt.tight_layout()\n",
    "plt.grid(True)\n",
    "graph.set_xticklabels(prcp_df[\"Date\"], rotation=45)\n",
    "plt.xlabel(\"Date\")\n",
    "plt.rcParams['axes.facecolor'] = 'lightgrey'\n",
    "plt.show()"
   ]
  },
  {
   "cell_type": "code",
   "execution_count": 18,
   "metadata": {},
   "outputs": [
    {
     "data": {
      "text/plain": [
       "9"
      ]
     },
     "execution_count": 18,
     "metadata": {},
     "output_type": "execute_result"
    }
   ],
   "source": [
    "#Design a query to calculate the total number of stations.\n",
    "total_stations = session.query(Station.station).count()\n",
    "total_stations"
   ]
  },
  {
   "cell_type": "code",
   "execution_count": 19,
   "metadata": {},
   "outputs": [
    {
     "data": {
      "text/plain": [
       "('WAIHEE 837.5, HI US', 'USC00519281', 2772)"
      ]
     },
     "execution_count": 19,
     "metadata": {},
     "output_type": "execute_result"
    }
   ],
   "source": [
    "# Design a query to find the most active stations.\n",
    "sel = [Station.name, Measurement.station, func.count(Measurement.tobs)]\n",
    "active = session.query(*sel).filter(Measurement.station == Station.station).group_by(Measurement.station).order_by(func.count(Measurement.tobs).desc()).first()\n",
    "active"
   ]
  },
  {
   "cell_type": "code",
   "execution_count": 20,
   "metadata": {},
   "outputs": [
    {
     "data": {
      "text/html": [
       "<div>\n",
       "<style>\n",
       "    .dataframe thead tr:only-child th {\n",
       "        text-align: right;\n",
       "    }\n",
       "\n",
       "    .dataframe thead th {\n",
       "        text-align: left;\n",
       "    }\n",
       "\n",
       "    .dataframe tbody tr th {\n",
       "        vertical-align: top;\n",
       "    }\n",
       "</style>\n",
       "<table border=\"1\" class=\"dataframe\">\n",
       "  <thead>\n",
       "    <tr style=\"text-align: right;\">\n",
       "      <th></th>\n",
       "      <th>date</th>\n",
       "      <th>tobs</th>\n",
       "    </tr>\n",
       "  </thead>\n",
       "  <tbody>\n",
       "    <tr>\n",
       "      <th>0</th>\n",
       "      <td>2016-08-23</td>\n",
       "      <td>77</td>\n",
       "    </tr>\n",
       "    <tr>\n",
       "      <th>1</th>\n",
       "      <td>2016-08-24</td>\n",
       "      <td>77</td>\n",
       "    </tr>\n",
       "    <tr>\n",
       "      <th>2</th>\n",
       "      <td>2016-08-25</td>\n",
       "      <td>80</td>\n",
       "    </tr>\n",
       "    <tr>\n",
       "      <th>3</th>\n",
       "      <td>2016-08-26</td>\n",
       "      <td>80</td>\n",
       "    </tr>\n",
       "    <tr>\n",
       "      <th>4</th>\n",
       "      <td>2016-08-27</td>\n",
       "      <td>75</td>\n",
       "    </tr>\n",
       "  </tbody>\n",
       "</table>\n",
       "</div>"
      ],
      "text/plain": [
       "         date  tobs\n",
       "0  2016-08-23    77\n",
       "1  2016-08-24    77\n",
       "2  2016-08-25    80\n",
       "3  2016-08-26    80\n",
       "4  2016-08-27    75"
      ]
     },
     "execution_count": 20,
     "metadata": {},
     "output_type": "execute_result"
    }
   ],
   "source": [
    "#Design a query to retrieve the last 12 months of temperature observation data (tobs).\n",
    "tobs = session.query(Measurement.date,Measurement.tobs).filter(Measurement.date>days_ago).filter(Measurement.station == active[1]).all()\n",
    "tobs_df = pd.DataFrame(tobs,columns=[\"date\",\"tobs\"])\n",
    "tobs_df.head()"
   ]
  },
  {
   "cell_type": "code",
   "execution_count": 21,
   "metadata": {},
   "outputs": [
    {
     "data": {
      "image/png": "[encoded data removed]",
      "text/plain": [
       "<matplotlib.figure.Figure at 0x10a55ba90>"
      ]
     },
     "metadata": {},
     "output_type": "display_data"
    }
   ],
   "source": [
    "# Plot the results as a histogram with bins=12\n",
    "tobs_df.plot.hist(bins = 12)\n",
    "plt.grid(True)\n",
    "plt.show()"
   ]
  },
  {
   "cell_type": "code",
   "execution_count": 182,
   "metadata": {},
   "outputs": [
    {
     "name": "stdout",
     "output_type": "stream",
     "text": [
      "[datetime.date(2017, 7, 24), datetime.date(2017, 8, 6)]\n"
     ]
    },
    {
     "data": {
      "image/png": "[encoded data removed]",
      "text/plain": [
       "<matplotlib.figure.Figure at 0x12009a588>"
      ]
     },
     "metadata": {},
     "output_type": "display_data"
    }
   ],
   "source": [
    "from scipy.stats import sem\n",
    "def calc_temps(start_date, end_date):\n",
    "    dates = [start_date, end_date]\n",
    "    last_year_date=[]\n",
    "    for x in range(len(dates)):\n",
    "        split_start_date = dates[x].split(\"-\")\n",
    "        last_year_date.append(dt.date(int(split_start_date[0]),int(split_start_date[1]),int(split_start_date[2]))-dt.timedelta(days = 365))\n",
    "    print(last_year_date)\n",
    "                              \n",
    "    temperature = session.query(func.min(Measurement.tobs),func.avg(Measurement.tobs),func.max(Measurement.tobs))\\\n",
    "    .filter(Measurement.date >= last_year_date[0]).filter(Measurement.date<=last_year_date[1]).all()\n",
    "    temp = list(np.ravel(temperature))\n",
    "    \n",
    "    plt.figure(figsize = (2,5))\n",
    "    plt.title(\"Trip Avg Temp\")\n",
    "    plt.ylabel(\"Temp (F)\")\n",
    "    plt.bar(1, temp[1], color = \"lightcoral\",yerr = (temp[2] - temp[0]),tick_label = \"\")\n",
    "    plt.grid()\n",
    "    plt.xticks([])\n",
    "    plt.show()\n",
    "\n",
    "calc_temps(\"2018-07-24\",\"2018-08-06\")\n"
   ]
  },
  {
   "cell_type": "code",
   "execution_count": 26,
   "metadata": {},
   "outputs": [
    {
     "data": {
      "text/plain": [
       "[('KANEOHE 838.1, HI US', 0.10749999999999998),\n",
       " ('KUALOA RANCH HEADQUARTERS 886.9, HI US', 0.15545454545454548),\n",
       " ('MANOA LYON ARBO 785.2, HI US', 0.27499999999999997),\n",
       " ('PEARL CITY, HI US', 0.005),\n",
       " ('WAIHEE 837.5, HI US', 0.11181818181818182),\n",
       " ('WAIKIKI 717.2, HI US', 0.006428571428571429),\n",
       " ('WAIMANALO EXPERIMENTAL FARM, HI US', 0.004166666666666667)]"
      ]
     },
     "execution_count": 26,
     "metadata": {},
     "output_type": "execute_result"
    }
   ],
   "source": [
    "# Calcualte the rainfall per weather station using the previous year's matching dates.\n",
    "def precipitation(start_date, end_date):\n",
    "    prec = session.query(Station.name, func.avg(Measurement.prcp))\\\n",
    "    .filter(Measurement.date>=start_date).filter(Measurement.date<=end_date)\\\n",
    "    .filter(Station.station == Measurement.station).group_by(Station.name).all()\n",
    "    return prec\n",
    "start_date = \"2017-07-24\"\n",
    "end_date = \"2017-08-06\"\n",
    "precipitation(start_date,end_date)"
   ]
  },
  {
   "cell_type": "code",
   "execution_count": 27,
   "metadata": {},
   "outputs": [
    {
     "data": {
      "text/plain": [
       "[69.0, 81.0, 76.400000000000006]"
      ]
     },
     "execution_count": 27,
     "metadata": {},
     "output_type": "execute_result"
    }
   ],
   "source": [
    "# Create a function called daily_normals that will calculate the daily normals for a specific date. This date string will be in the format %m-%d. Be sure to use all historic tobs that match that date string.\n",
    "def daily_normals(query_date):\n",
    "    temperature = session.query(func.max(Measurement.tobs),func.min(Measurement.tobs),func.avg(Measurement.tobs)).filter(Measurement.date.like(f\"%{query_date}\")).all()\n",
    "    t_list = list(np.ravel(temperature))\n",
    "    tempp = [t_list[1],t_list[0],t_list[2]] \n",
    "    return tempp\n",
    "daily_normals(\"07-24\")"
   ]
  },
  {
   "cell_type": "code",
   "execution_count": 28,
   "metadata": {},
   "outputs": [
    {
     "data": {
      "text/html": [
       "<div>\n",
       "<style>\n",
       "    .dataframe thead tr:only-child th {\n",
       "        text-align: right;\n",
       "    }\n",
       "\n",
       "    .dataframe thead th {\n",
       "        text-align: left;\n",
       "    }\n",
       "\n",
       "    .dataframe tbody tr th {\n",
       "        vertical-align: top;\n",
       "    }\n",
       "</style>\n",
       "<table border=\"1\" class=\"dataframe\">\n",
       "  <thead>\n",
       "    <tr style=\"text-align: right;\">\n",
       "      <th></th>\n",
       "      <th>Maximum</th>\n",
       "      <th>Minimum</th>\n",
       "      <th>Average</th>\n",
       "    </tr>\n",
       "  </thead>\n",
       "  <tbody>\n",
       "    <tr>\n",
       "      <th>07-24</th>\n",
       "      <td>69.0</td>\n",
       "      <td>81.0</td>\n",
       "      <td>76.400000</td>\n",
       "    </tr>\n",
       "    <tr>\n",
       "      <th>07-25</th>\n",
       "      <td>67.0</td>\n",
       "      <td>84.0</td>\n",
       "      <td>76.941176</td>\n",
       "    </tr>\n",
       "    <tr>\n",
       "      <th>07-26</th>\n",
       "      <td>71.0</td>\n",
       "      <td>86.0</td>\n",
       "      <td>76.411765</td>\n",
       "    </tr>\n",
       "    <tr>\n",
       "      <th>07-27</th>\n",
       "      <td>68.0</td>\n",
       "      <td>83.0</td>\n",
       "      <td>76.367347</td>\n",
       "    </tr>\n",
       "    <tr>\n",
       "      <th>07-28</th>\n",
       "      <td>69.0</td>\n",
       "      <td>82.0</td>\n",
       "      <td>76.452830</td>\n",
       "    </tr>\n",
       "  </tbody>\n",
       "</table>\n",
       "</div>"
      ],
      "text/plain": [
       "       Maximum  Minimum    Average\n",
       "07-24     69.0     81.0  76.400000\n",
       "07-25     67.0     84.0  76.941176\n",
       "07-26     71.0     86.0  76.411765\n",
       "07-27     68.0     83.0  76.367347\n",
       "07-28     69.0     82.0  76.452830"
      ]
     },
     "execution_count": 28,
     "metadata": {},
     "output_type": "execute_result"
    }
   ],
   "source": [
    "start_date = \"2017-07-24\"\n",
    "end_date = \"2017-08-06\"\n",
    "\n",
    "day_range = pd.date_range(start_date,end_date,freq = \"D\")\n",
    "results = {}\n",
    "for d in list(day_range):\n",
    "    date_list=d.strftime(\"%m-%d\")\n",
    "    results[date_list]=daily_normals(date_list)\n",
    "# df = pd.DataFrame(results[0],columns = )\n",
    "df = pd.DataFrame(results).T\n",
    "df.columns = [\"Maximum\", \"Minimum\", \"Average\"]\n",
    "df.head()\n"
   ]
  },
  {
   "cell_type": "code",
   "execution_count": 29,
   "metadata": {},
   "outputs": [
    {
     "data": {
      "image/png": "[encoded data removed]",
      "text/plain": [
       "<matplotlib.figure.Figure at 0x10f649b38>"
      ]
     },
     "metadata": {},
     "output_type": "display_data"
    }
   ],
   "source": [
    "df_plot = df.plot(kind = 'area', stacked = False, alpha = 0.75, color = ['lightskyblue','pink','bisque'])\n",
    "plt.grid()\n",
    "plt.xlabel(\"Date\")\n",
    "df1 = df.reset_index()\n",
    "df_plot.set_xticklabels(df1[\"index\"], rotation=45)\n",
    "plt.show()"
   ]
  },
  {
   "cell_type": "code",
   "execution_count": null,
   "metadata": {
    "collapsed": true
   },
   "outputs": [],
   "source": []
  }
 ],
 "metadata": {
  "kernelspec": {
   "display_name": "Python [conda env:PythonData]",
   "language": "python",
   "name": "conda-env-PythonData-py"
  },
  "language_info": {
   "codemirror_mode": {
    "name": "ipython",
    "version": 3
   },
   "file_extension": ".py",
   "mimetype": "text/x-python",
   "name": "python",
   "nbconvert_exporter": "python",
   "pygments_lexer": "ipython3",
   "version": "3.6.3"
  }
 },
 "nbformat": 4,
 "nbformat_minor": 2
}
